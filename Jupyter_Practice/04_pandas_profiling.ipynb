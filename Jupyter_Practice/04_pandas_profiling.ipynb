{
 "cells": [
  {
   "cell_type": "markdown",
   "metadata": {},
   "source": [
    "# Automatic EDA Using ydata Profiling "
   ]
  },
  {
   "cell_type": "code",
   "execution_count": 1,
   "metadata": {},
   "outputs": [
    {
     "name": "stderr",
     "output_type": "stream",
     "text": [
      "Matplotlib is building the font cache; this may take a moment.\n",
      "c:\\Users\\dell\\.conda\\envs\\ydata_profiling\\lib\\site-packages\\tqdm\\auto.py:21: TqdmWarning: IProgress not found. Please update jupyter and ipywidgets. See https://ipywidgets.readthedocs.io/en/stable/user_install.html\n",
      "  from .autonotebook import tqdm as notebook_tqdm\n"
     ]
    }
   ],
   "source": [
    "#import library\n",
    "import pandas as pd\n",
    "import seaborn as sns\n",
    "import ydata_profiling as yd"
   ]
  },
  {
   "cell_type": "code",
   "execution_count": 2,
   "metadata": {},
   "outputs": [],
   "source": [
    "# import data \n",
    "df = pd.read_csv(\"../data_set/population_of_pakistan.csv\")"
   ]
  },
  {
   "cell_type": "code",
   "execution_count": 8,
   "metadata": {},
   "outputs": [
    {
     "name": "stderr",
     "output_type": "stream",
     "text": [
      "Summarize dataset: 100%|██████████| 319/319 [01:09<00:00,  4.57it/s, Completed]                                                     \n",
      "Generate report structure: 100%|██████████| 1/1 [00:15<00:00, 15.98s/it]\n",
      "Render HTML: 100%|██████████| 1/1 [00:17<00:00, 17.11s/it]\n",
      "Export report to file: 100%|██████████| 1/1 [00:00<00:00,  7.52it/s]\n"
     ]
    }
   ],
   "source": [
    "# Generate the profile report for the DataFrame `df`\n",
    "profile = yd.ProfileReport(df)\n",
    "\n",
    "# Save the report to the specified file path\n",
    "profile.to_file(output_file=\"../outputs/04_population_pakistan.html\")"
   ]
  }
 ],
 "metadata": {
  "kernelspec": {
   "display_name": "ydata_profiling",
   "language": "python",
   "name": "python3"
  },
  "language_info": {
   "codemirror_mode": {
    "name": "ipython",
    "version": 3
   },
   "file_extension": ".py",
   "mimetype": "text/x-python",
   "name": "python",
   "nbconvert_exporter": "python",
   "pygments_lexer": "ipython3",
   "version": "3.10.14"
  }
 },
 "nbformat": 4,
 "nbformat_minor": 2
}
